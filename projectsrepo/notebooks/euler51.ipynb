{
 "cells": [
  {
   "cell_type": "code",
   "execution_count": 80,
   "metadata": {},
   "outputs": [
    {
     "output_type": "stream",
     "name": "stdout",
     "text": "The autoreload extension is already loaded. To reload it, use:\n  %reload_ext autoreload\n"
    }
   ],
   "source": [
    "%load_ext autoreload\n",
    "\n",
    "%autoreload 2\n",
    "\n",
    "from projectlib.common.number import Primes, binary"
   ]
  },
  {
   "cell_type": "markdown",
   "metadata": {},
   "source": [
    "- Turn source number into list of digits\n",
    "- Iterate through every binary string less than 2 ** (num digits - 1)\n",
    "- for each binstring, if the leading digit is 1, test 1-9 everywhere where the bin digit is 1, otherwise test 1-0\n"
   ]
  },
  {
   "cell_type": "code",
   "execution_count": 91,
   "metadata": {},
   "outputs": [
    {
     "output_type": "execute_result",
     "data": {
      "text/plain": "[{100, 101, 102, 103, 104, 105, 106, 107, 108, 109},\n {101, 111, 121, 131, 141, 151, 161, 171, 181, 191},\n {100, 111, 122, 133, 144, 155, 166, 177, 188, 199},\n {101, 201, 301, 401, 501, 601, 701, 801, 901},\n {101, 202, 303, 404, 505, 606, 707, 808, 909},\n {111, 221, 331, 441, 551, 661, 771, 881, 991},\n {111, 222, 333, 444, 555, 666, 777, 888, 999}]"
     },
     "metadata": {},
     "execution_count": 91
    }
   ],
   "source": [
    "def neighbors(x):\n",
    "    xstr = str(x)\n",
    "    num_digits = len(xstr)\n",
    "    # Generate every binary mask\n",
    "    for b in range(1, 2 ** num_digits):\n",
    "        mask = binary(b, padding=num_digits)\n",
    "        test_digits = [str(i) for i in (range(0, 10) if mask[0] != '1' else range(1, 10))]\n",
    "        # Flip to the test digit everywhere the binary mask is 1\n",
    "        test_lst = list(xstr)\n",
    "        flip_inds = [i for i in range(len(mask)) if mask[i] == '1']\n",
    "        family = set()\n",
    "        for test in test_digits:\n",
    "            for ind in flip_inds:\n",
    "                test_lst[ind] = test\n",
    "            family.add(int(\"\".join(test_lst)))\n",
    "        yield family\n",
    "        \n",
    "\n",
    "sorted(neighbors(101))\n"
   ]
  },
  {
   "cell_type": "code",
   "execution_count": 97,
   "metadata": {
    "tags": [
     "outputPrepend",
     "outputPrepend",
     "outputPrepend",
     "outputPrepend",
     "outputPrepend",
     "outputPrepend",
     "outputPrepend",
     "outputPrepend",
     "outputPrepend",
     "outputPrepend",
     "outputPrepend",
     "outputPrepend",
     "outputPrepend",
     "outputPrepend",
     "outputPrepend",
     "outputPrepend",
     "outputPrepend",
     "outputPrepend",
     "outputPrepend",
     "outputPrepend",
     "outputPrepend",
     "outputPrepend",
     "outputPrepend",
     "outputPrepend",
     "outputPrepend",
     "outputPrepend",
     "outputPrepend",
     "outputPrepend",
     "outputPrepend",
     "outputPrepend"
    ]
   },
   "outputs": [
    {
     "output_type": "execute_result",
     "data": {
      "text/plain": "[121313, 222323, 323333, 424343, 525353, 626363, 828383, 929393]"
     },
     "metadata": {},
     "execution_count": 97
    }
   ],
   "source": [
    "def prime_family(n=3):\n",
    "    num_digits = 1\n",
    "    generating_prime = None\n",
    "    prime_gen = Primes()\n",
    "    p = next(prime_gen)\n",
    "    while generating_prime is None:\n",
    "        while p < 10 ** num_digits - 1:\n",
    "            for family in neighbors(p):\n",
    "                prime_family = [test for test in family if prime_gen.is_prime(test)]\n",
    "                if len(prime_family) >= n:\n",
    "                    return prime_family\n",
    "            p = next(prime_gen)\n",
    "        num_digits += 1\n",
    "\n",
    "sorted(prime_family(8))\n"
   ]
  }
 ],
 "metadata": {
  "language_info": {
   "codemirror_mode": {
    "name": "ipython",
    "version": 3
   },
   "file_extension": ".py",
   "mimetype": "text/x-python",
   "name": "python",
   "nbconvert_exporter": "python",
   "pygments_lexer": "ipython3",
   "version": "3.6.8-final"
  },
  "orig_nbformat": 2,
  "kernelspec": {
   "name": "python36864bitaf544881e8e54a5da73cc14ab7a44dd2",
   "display_name": "Python 3.6.8 64-bit"
  }
 },
 "nbformat": 4,
 "nbformat_minor": 2
}