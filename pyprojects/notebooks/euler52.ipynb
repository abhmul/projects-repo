{
 "cells": [
  {
   "cell_type": "markdown",
   "metadata": {},
   "source": [
    "It can be seen that the number, 125874, and its double, 251748, contain exactly the same digits, but in a different order.\n",
    "\n",
    "Find the smallest positive integer, x, such that 2x, 3x, 4x, 5x, and 6x, contain the same digits."
   ]
  },
  {
   "cell_type": "code",
   "execution_count": 2,
   "metadata": {},
   "outputs": [
    {
     "output_type": "stream",
     "name": "stdout",
     "text": "True\nFalse\n"
    }
   ],
   "source": [
    "from projectlib.common.number import digit_counts\n",
    "\n",
    "def is_multiple_permute(x, m=2):\n",
    "    counts = digit_counts(x)\n",
    "    for k in range(2, m + 1):\n",
    "        if digit_counts(k * x) != counts:\n",
    "            return False\n",
    "    return True\n",
    "\n",
    "print(is_multiple_permute(125874))\n",
    "print(is_multiple_permute(3))"
   ]
  },
  {
   "cell_type": "code",
   "execution_count": 3,
   "metadata": {},
   "outputs": [
    {
     "output_type": "execute_result",
     "data": {
      "text/plain": "142857"
     },
     "metadata": {},
     "execution_count": 3
    }
   ],
   "source": [
    "x = 1\n",
    "while not is_multiple_permute(x, m=6):\n",
    "    x += 1\n",
    "\n",
    "x"
   ]
  }
 ],
 "metadata": {
  "language_info": {
   "codemirror_mode": {
    "name": "ipython",
    "version": 3
   },
   "file_extension": ".py",
   "mimetype": "text/x-python",
   "name": "python",
   "nbconvert_exporter": "python",
   "pygments_lexer": "ipython3",
   "version": "3.6.8-final"
  },
  "orig_nbformat": 2,
  "kernelspec": {
   "name": "python36864bitaf544881e8e54a5da73cc14ab7a44dd2",
   "display_name": "Python 3.6.8 64-bit"
  }
 },
 "nbformat": 4,
 "nbformat_minor": 2
}