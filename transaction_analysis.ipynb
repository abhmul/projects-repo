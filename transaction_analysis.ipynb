{
 "nbformat": 4,
 "nbformat_minor": 2,
 "metadata": {
  "language_info": {
   "name": "python",
   "codemirror_mode": {
    "name": "ipython",
    "version": 3
   },
   "version": "3.6.8-final"
  },
  "orig_nbformat": 2,
  "file_extension": ".py",
  "mimetype": "text/x-python",
  "name": "python",
  "npconvert_exporter": "python",
  "pygments_lexer": "ipython3",
  "version": 3,
  "kernelspec": {
   "name": "python36864bita81e1d93cb0848a1ac7425e3fba66434",
   "display_name": "Python 3.6.8 64-bit"
  }
 },
 "cells": [
  {
   "cell_type": "code",
   "execution_count": 3,
   "metadata": {},
   "outputs": [
    {
     "name": "stdout",
     "output_type": "stream",
     "text": "The autoreload extension is already loaded. To reload it, use:\n  %reload_ext autoreload\n"
    }
   ],
   "source": [
    "%matplotlib inline\n",
    "\n",
    "%load_ext autoreload\n",
    "%autoreload 2\n",
    "\n",
    "import pandas as pd\n",
    "import matplotlib\n",
    "import numpy as np\n",
    "import matplotlib.pyplot as plt\n",
    "\n",
    "TRANSACTIONS_FILEPATH = \"/data/transaction-data/transactions-1-19-20.csv\""
   ]
  },
  {
   "cell_type": "code",
   "execution_count": 4,
   "metadata": {},
   "outputs": [
    {
     "name": "stdout",
     "output_type": "stream",
     "text": "1948 Transactions:\n"
    },
    {
     "data": {
      "text/html": "<div>\n<style scoped>\n    .dataframe tbody tr th:only-of-type {\n        vertical-align: middle;\n    }\n\n    .dataframe tbody tr th {\n        vertical-align: top;\n    }\n\n    .dataframe thead th {\n        text-align: right;\n    }\n</style>\n<table border=\"1\" class=\"dataframe\">\n  <thead>\n    <tr style=\"text-align: right;\">\n      <th></th>\n      <th>Date</th>\n      <th>Description</th>\n      <th>Original Description</th>\n      <th>Amount</th>\n      <th>Transaction Type</th>\n      <th>Category</th>\n      <th>Account Name</th>\n      <th>Labels</th>\n      <th>Notes</th>\n    </tr>\n  </thead>\n  <tbody>\n    <tr>\n      <th>0</th>\n      <td>1/15/2020</td>\n      <td>Domino Data Lab Direct Dep</td>\n      <td>Domino Data Lab Direct Dep</td>\n      <td>2974.63</td>\n      <td>credit</td>\n      <td>Paycheck</td>\n      <td>Abhijeet</td>\n      <td>NaN</td>\n      <td>NaN</td>\n    </tr>\n    <tr>\n      <th>1</th>\n      <td>1/15/2020</td>\n      <td>Hulu</td>\n      <td>HLU*HULU 289346993148</td>\n      <td>11.99</td>\n      <td>debit</td>\n      <td>Movies &amp; DVDs</td>\n      <td>Platinum Mastercard</td>\n      <td>NaN</td>\n      <td>NaN</td>\n    </tr>\n    <tr>\n      <th>2</th>\n      <td>1/14/2020</td>\n      <td>Venmo</td>\n      <td>Venmo Payment</td>\n      <td>1.93</td>\n      <td>debit</td>\n      <td>Transfer</td>\n      <td>Abhijeet</td>\n      <td>NaN</td>\n      <td>NaN</td>\n    </tr>\n    <tr>\n      <th>3</th>\n      <td>1/14/2020</td>\n      <td>Venmo</td>\n      <td>Venmo Payment</td>\n      <td>27.41</td>\n      <td>debit</td>\n      <td>Transfer</td>\n      <td>Abhijeet</td>\n      <td>NaN</td>\n      <td>NaN</td>\n    </tr>\n    <tr>\n      <th>4</th>\n      <td>1/14/2020</td>\n      <td>Venmo</td>\n      <td>Venmo Payment</td>\n      <td>1.95</td>\n      <td>debit</td>\n      <td>Transfer</td>\n      <td>Abhijeet</td>\n      <td>NaN</td>\n      <td>NaN</td>\n    </tr>\n  </tbody>\n</table>\n</div>",
      "text/plain": "        Date                 Description        Original Description   Amount  \\\n0  1/15/2020  Domino Data Lab Direct Dep  Domino Data Lab Direct Dep  2974.63   \n1  1/15/2020                        Hulu       HLU*HULU 289346993148    11.99   \n2  1/14/2020                       Venmo               Venmo Payment     1.93   \n3  1/14/2020                       Venmo               Venmo Payment    27.41   \n4  1/14/2020                       Venmo               Venmo Payment     1.95   \n\n  Transaction Type       Category         Account Name  Labels  Notes  \n0           credit       Paycheck             Abhijeet     NaN    NaN  \n1            debit  Movies & DVDs  Platinum Mastercard     NaN    NaN  \n2            debit       Transfer             Abhijeet     NaN    NaN  \n3            debit       Transfer             Abhijeet     NaN    NaN  \n4            debit       Transfer             Abhijeet     NaN    NaN  "
     },
     "execution_count": 4,
     "metadata": {},
     "output_type": "execute_result"
    }
   ],
   "source": [
    "transactions = pd.read_csv(TRANSACTIONS_FILEPATH)\n",
    "print(f\"{len(transactions)} Transactions:\")\n",
    "transactions.head()\n"
   ]
  },
  {
   "cell_type": "code",
   "execution_count": 5,
   "metadata": {},
   "outputs": [
    {
     "ename": "NameError",
     "evalue": "name 'date_start' is not defined",
     "output_type": "error",
     "traceback": [
      "\u001b[0;31m---------------------------------------------------------------------------\u001b[0m",
      "\u001b[0;31mNameError\u001b[0m                                 Traceback (most recent call last)",
      "\u001b[0;32m<ipython-input-5-11f2d0256648>\u001b[0m in \u001b[0;36m<module>\u001b[0;34m\u001b[0m\n\u001b[1;32m     20\u001b[0m     \u001b[0;32mreturn\u001b[0m \u001b[0mdf\u001b[0m\u001b[0;34m[\u001b[0m\u001b[0;34m[\u001b[0m\u001b[0mCATEGORY\u001b[0m\u001b[0;34m,\u001b[0m \u001b[0mAMOUNT\u001b[0m\u001b[0;34m]\u001b[0m\u001b[0;34m]\u001b[0m\u001b[0;34m.\u001b[0m\u001b[0mgroupby\u001b[0m\u001b[0;34m(\u001b[0m\u001b[0;34m[\u001b[0m\u001b[0mCATEGORY\u001b[0m\u001b[0;34m]\u001b[0m\u001b[0;34m)\u001b[0m\u001b[0;34m.\u001b[0m\u001b[0msum\u001b[0m\u001b[0;34m(\u001b[0m\u001b[0;34m)\u001b[0m\u001b[0;34m.\u001b[0m\u001b[0msort_values\u001b[0m\u001b[0;34m(\u001b[0m\u001b[0mby\u001b[0m\u001b[0;34m=\u001b[0m\u001b[0mAMOUNT\u001b[0m\u001b[0;34m,\u001b[0m \u001b[0mascending\u001b[0m\u001b[0;34m=\u001b[0m\u001b[0;32mFalse\u001b[0m\u001b[0;34m)\u001b[0m\u001b[0;34m\u001b[0m\u001b[0;34m\u001b[0m\u001b[0m\n\u001b[1;32m     21\u001b[0m \u001b[0;34m\u001b[0m\u001b[0m\n\u001b[0;32m---> 22\u001b[0;31m \u001b[0mlast_4_months\u001b[0m \u001b[0;34m=\u001b[0m \u001b[0mdate_filter\u001b[0m\u001b[0;34m(\u001b[0m\u001b[0mtransactions\u001b[0m\u001b[0;34m,\u001b[0m \u001b[0mdate_start\u001b[0m\u001b[0;34m)\u001b[0m\u001b[0;34m\u001b[0m\u001b[0;34m\u001b[0m\u001b[0m\n\u001b[0m\u001b[1;32m     23\u001b[0m \u001b[0mprint\u001b[0m\u001b[0;34m(\u001b[0m\u001b[0;34mf\"{len(last_4_months)} Transactions:\"\u001b[0m\u001b[0;34m)\u001b[0m\u001b[0;34m\u001b[0m\u001b[0;34m\u001b[0m\u001b[0m\n\u001b[1;32m     24\u001b[0m \u001b[0mamounts_by_category\u001b[0m\u001b[0;34m(\u001b[0m\u001b[0mlast_4_months\u001b[0m\u001b[0;34m)\u001b[0m\u001b[0;34m\u001b[0m\u001b[0;34m\u001b[0m\u001b[0m\n",
      "\u001b[0;31mNameError\u001b[0m: name 'date_start' is not defined"
     ]
    }
   ],
   "source": [
    "# What are the categories I spend in, and how much do I spend?\n",
    "CATEGORY = \"Category\"\n",
    "AMOUNT = \"Amount\"\n",
    "\n",
    "# Select the last 4 months\n",
    "DATE_START = '8/01/2019'\n",
    "\n",
    "def date_filter(df, start, end=None, date_col=\"Date\"):\n",
    "    start_time = pd.to_datetime(start)\n",
    "    datetime_df = pd.to_datetime(df[date_col])\n",
    "    mask = datetime_df >= start\n",
    "    if end is not None:\n",
    "        end_time = pd.to_datetime(end)\n",
    "        mask &= datetime_df < end\n",
    "    return df[mask]\n",
    "\n",
    "# print(date_filter(transactions, date_start)['Date'])\n",
    "\n",
    "def amounts_by_category(df):\n",
    "    return df[[CATEGORY, AMOUNT]].groupby([CATEGORY]).sum().sort_values(by=AMOUNT, ascending=False)\n",
    "\n",
    "last_4_months = date_filter(transactions, date_start)\n",
    "print(f\"{len(last_4_months)} Transactions:\")\n",
    "amounts_by_category(last_4_months)"
   ]
  },
  {
   "cell_type": "markdown",
   "execution_count": null,
   "metadata": {},
   "outputs": [],
   "source": [
    "Looks like some categories are off. For example Wealthfront -> Auto Insurance and I don't really know what \"Tuition\" is. There is also no indication of what is income and what is an expenditure. My real substantial spending occurs with Discover and Capital One, so let's just filter on those and see what the data looks like then."
   ]
  },
  {
   "cell_type": "code",
   "execution_count": 31,
   "metadata": {},
   "outputs": [
    {
     "name": "stdout",
     "output_type": "stream",
     "text": "['Discover' 'Abhijeet' \"Guideline's Very Aggressive Portfolio\"\n 'Individual Investment Account' \"Guideline's Aggressive Portfolio\"\n 'Platinum Mastercard' 'Individual Cash Account' 'CREDITCARD Account']\n"
    },
    {
     "data": {
      "text/html": "<div>\n<style scoped>\n    .dataframe tbody tr th:only-of-type {\n        vertical-align: middle;\n    }\n\n    .dataframe tbody tr th {\n        vertical-align: top;\n    }\n\n    .dataframe thead th {\n        text-align: right;\n    }\n</style>\n<table border=\"1\" class=\"dataframe\">\n  <thead>\n    <tr style=\"text-align: right;\">\n      <th></th>\n      <th>Date</th>\n      <th>Description</th>\n      <th>Original Description</th>\n      <th>Amount</th>\n      <th>Transaction Type</th>\n      <th>Category</th>\n      <th>Account Name</th>\n      <th>Labels</th>\n      <th>Notes</th>\n    </tr>\n  </thead>\n  <tbody>\n    <tr>\n      <td>0</td>\n      <td>1/02/2020</td>\n      <td>Panera Bread</td>\n      <td>PANERA BREAD #204846</td>\n      <td>27.55</td>\n      <td>debit</td>\n      <td>Fast Food</td>\n      <td>Discover</td>\n      <td>NaN</td>\n      <td>NaN</td>\n    </tr>\n    <tr>\n      <td>7</td>\n      <td>1/02/2020</td>\n      <td>Amazon</td>\n      <td>AMAZON.COM*JY30I73D3 AMZN.COM/BILLWACS62IO0N477</td>\n      <td>26.74</td>\n      <td>debit</td>\n      <td>Shopping</td>\n      <td>Discover</td>\n      <td>NaN</td>\n      <td>NaN</td>\n    </tr>\n    <tr>\n      <td>10</td>\n      <td>1/02/2020</td>\n      <td>WINC 855-282-5829 CAGOOGLE PAY ENDING IN 7678</td>\n      <td>WINC 855-282-5829 CAGOOGLE PAY ENDING IN 7678</td>\n      <td>59.95</td>\n      <td>debit</td>\n      <td>Alcohol &amp; Bars</td>\n      <td>Discover</td>\n      <td>NaN</td>\n      <td>NaN</td>\n    </tr>\n    <tr>\n      <td>20</td>\n      <td>12/30/2019</td>\n      <td>CVS</td>\n      <td>CVS/PHARMACY #03477 CENTERVILLE OH</td>\n      <td>154.97</td>\n      <td>debit</td>\n      <td>Pharmacy</td>\n      <td>Discover</td>\n      <td>NaN</td>\n      <td>NaN</td>\n    </tr>\n    <tr>\n      <td>21</td>\n      <td>12/30/2019</td>\n      <td>Kroger Fuel</td>\n      <td>KROGER FUEL #4923 CENTERVILLE OH</td>\n      <td>23.46</td>\n      <td>debit</td>\n      <td>Gas &amp; Fuel</td>\n      <td>Discover</td>\n      <td>NaN</td>\n      <td>NaN</td>\n    </tr>\n  </tbody>\n</table>\n</div>",
      "text/plain": "          Date                                    Description  \\\n0    1/02/2020                                   Panera Bread   \n7    1/02/2020                                         Amazon   \n10   1/02/2020  WINC 855-282-5829 CAGOOGLE PAY ENDING IN 7678   \n20  12/30/2019                                            CVS   \n21  12/30/2019                                    Kroger Fuel   \n\n                               Original Description  Amount Transaction Type  \\\n0                              PANERA BREAD #204846   27.55            debit   \n7   AMAZON.COM*JY30I73D3 AMZN.COM/BILLWACS62IO0N477   26.74            debit   \n10    WINC 855-282-5829 CAGOOGLE PAY ENDING IN 7678   59.95            debit   \n20               CVS/PHARMACY #03477 CENTERVILLE OH  154.97            debit   \n21                 KROGER FUEL #4923 CENTERVILLE OH   23.46            debit   \n\n          Category Account Name  Labels  Notes  \n0        Fast Food     Discover     NaN    NaN  \n7         Shopping     Discover     NaN    NaN  \n10  Alcohol & Bars     Discover     NaN    NaN  \n20        Pharmacy     Discover     NaN    NaN  \n21      Gas & Fuel     Discover     NaN    NaN  "
     },
     "metadata": {},
     "output_type": "display_data"
    },
    {
     "data": {
      "text/html": "<div>\n<style scoped>\n    .dataframe tbody tr th:only-of-type {\n        vertical-align: middle;\n    }\n\n    .dataframe tbody tr th {\n        vertical-align: top;\n    }\n\n    .dataframe thead th {\n        text-align: right;\n    }\n</style>\n<table border=\"1\" class=\"dataframe\">\n  <thead>\n    <tr style=\"text-align: right;\">\n      <th></th>\n      <th>Date</th>\n      <th>Description</th>\n      <th>Original Description</th>\n      <th>Amount</th>\n      <th>Transaction Type</th>\n      <th>Category</th>\n      <th>Account Name</th>\n      <th>Labels</th>\n      <th>Notes</th>\n    </tr>\n  </thead>\n  <tbody>\n    <tr>\n      <td>1</td>\n      <td>1/03/2020</td>\n      <td>Wealthfront Inc Edi Pymnts</td>\n      <td>Wealthfront Inc Edi Pymnts</td>\n      <td>1000.00</td>\n      <td>debit</td>\n      <td>Auto Insurance</td>\n      <td>Abhijeet</td>\n      <td>NaN</td>\n      <td>NaN</td>\n    </tr>\n    <tr>\n      <td>2</td>\n      <td>1/03/2020</td>\n      <td>Capital One Mobile payment</td>\n      <td>Capital One Mobile Pmt</td>\n      <td>29.66</td>\n      <td>debit</td>\n      <td>Credit Card Payment</td>\n      <td>Abhijeet</td>\n      <td>NaN</td>\n      <td>NaN</td>\n    </tr>\n    <tr>\n      <td>8</td>\n      <td>1/02/2020</td>\n      <td>Wealthfront Inc Edi Pymnts</td>\n      <td>Wealthfront Inc Edi Pymnts</td>\n      <td>2300.00</td>\n      <td>debit</td>\n      <td>Auto Insurance</td>\n      <td>Abhijeet</td>\n      <td>NaN</td>\n      <td>NaN</td>\n    </tr>\n    <tr>\n      <td>14</td>\n      <td>1/01/2020</td>\n      <td>Interest Credit</td>\n      <td>Interest Credit</td>\n      <td>0.01</td>\n      <td>credit</td>\n      <td>Interest Income</td>\n      <td>Abhijeet</td>\n      <td>NaN</td>\n      <td>NaN</td>\n    </tr>\n    <tr>\n      <td>15</td>\n      <td>1/01/2020</td>\n      <td>Interest Credit</td>\n      <td>Interest Credit</td>\n      <td>5.60</td>\n      <td>credit</td>\n      <td>Interest Income</td>\n      <td>Abhijeet</td>\n      <td>NaN</td>\n      <td>NaN</td>\n    </tr>\n  </tbody>\n</table>\n</div>",
      "text/plain": "         Date                 Description        Original Description  \\\n1   1/03/2020  Wealthfront Inc Edi Pymnts  Wealthfront Inc Edi Pymnts   \n2   1/03/2020  Capital One Mobile payment      Capital One Mobile Pmt   \n8   1/02/2020  Wealthfront Inc Edi Pymnts  Wealthfront Inc Edi Pymnts   \n14  1/01/2020             Interest Credit             Interest Credit   \n15  1/01/2020             Interest Credit             Interest Credit   \n\n     Amount Transaction Type             Category Account Name  Labels  Notes  \n1   1000.00            debit       Auto Insurance     Abhijeet     NaN    NaN  \n2     29.66            debit  Credit Card Payment     Abhijeet     NaN    NaN  \n8   2300.00            debit       Auto Insurance     Abhijeet     NaN    NaN  \n14     0.01           credit      Interest Income     Abhijeet     NaN    NaN  \n15     5.60           credit      Interest Income     Abhijeet     NaN    NaN  "
     },
     "metadata": {},
     "output_type": "display_data"
    },
    {
     "data": {
      "text/html": "<div>\n<style scoped>\n    .dataframe tbody tr th:only-of-type {\n        vertical-align: middle;\n    }\n\n    .dataframe tbody tr th {\n        vertical-align: top;\n    }\n\n    .dataframe thead th {\n        text-align: right;\n    }\n</style>\n<table border=\"1\" class=\"dataframe\">\n  <thead>\n    <tr style=\"text-align: right;\">\n      <th></th>\n      <th>Date</th>\n      <th>Description</th>\n      <th>Original Description</th>\n      <th>Amount</th>\n      <th>Transaction Type</th>\n      <th>Category</th>\n      <th>Account Name</th>\n      <th>Labels</th>\n      <th>Notes</th>\n    </tr>\n  </thead>\n  <tbody>\n    <tr>\n      <td>3</td>\n      <td>1/03/2020</td>\n      <td>PayrollDeduction</td>\n      <td>PayrollDeduction</td>\n      <td>233.33</td>\n      <td>credit</td>\n      <td>Investments</td>\n      <td>Guideline's Very Aggressive Portfolio</td>\n      <td>NaN</td>\n      <td>NaN</td>\n    </tr>\n    <tr>\n      <td>38</td>\n      <td>12/24/2019</td>\n      <td>DividendUnit</td>\n      <td>DividendUnit</td>\n      <td>1.02</td>\n      <td>credit</td>\n      <td>Investments</td>\n      <td>Guideline's Very Aggressive Portfolio</td>\n      <td>NaN</td>\n      <td>NaN</td>\n    </tr>\n    <tr>\n      <td>39</td>\n      <td>12/24/2019</td>\n      <td>DividendUnit</td>\n      <td>DividendUnit</td>\n      <td>2.54</td>\n      <td>credit</td>\n      <td>Investments</td>\n      <td>Guideline's Very Aggressive Portfolio</td>\n      <td>NaN</td>\n      <td>NaN</td>\n    </tr>\n    <tr>\n      <td>40</td>\n      <td>12/24/2019</td>\n      <td>DividendUnit</td>\n      <td>DividendUnit</td>\n      <td>1.72</td>\n      <td>credit</td>\n      <td>Investments</td>\n      <td>Guideline's Very Aggressive Portfolio</td>\n      <td>NaN</td>\n      <td>NaN</td>\n    </tr>\n    <tr>\n      <td>41</td>\n      <td>12/24/2019</td>\n      <td>DividendUnit</td>\n      <td>DividendUnit</td>\n      <td>3.74</td>\n      <td>credit</td>\n      <td>Investments</td>\n      <td>Guideline's Very Aggressive Portfolio</td>\n      <td>NaN</td>\n      <td>NaN</td>\n    </tr>\n  </tbody>\n</table>\n</div>",
      "text/plain": "          Date       Description Original Description  Amount  \\\n3    1/03/2020  PayrollDeduction     PayrollDeduction  233.33   \n38  12/24/2019      DividendUnit         DividendUnit    1.02   \n39  12/24/2019      DividendUnit         DividendUnit    2.54   \n40  12/24/2019      DividendUnit         DividendUnit    1.72   \n41  12/24/2019      DividendUnit         DividendUnit    3.74   \n\n   Transaction Type     Category                           Account Name  \\\n3            credit  Investments  Guideline's Very Aggressive Portfolio   \n38           credit  Investments  Guideline's Very Aggressive Portfolio   \n39           credit  Investments  Guideline's Very Aggressive Portfolio   \n40           credit  Investments  Guideline's Very Aggressive Portfolio   \n41           credit  Investments  Guideline's Very Aggressive Portfolio   \n\n    Labels  Notes  \n3      NaN    NaN  \n38     NaN    NaN  \n39     NaN    NaN  \n40     NaN    NaN  \n41     NaN    NaN  "
     },
     "metadata": {},
     "output_type": "display_data"
    },
    {
     "data": {
      "text/html": "<div>\n<style scoped>\n    .dataframe tbody tr th:only-of-type {\n        vertical-align: middle;\n    }\n\n    .dataframe tbody tr th {\n        vertical-align: top;\n    }\n\n    .dataframe thead th {\n        text-align: right;\n    }\n</style>\n<table border=\"1\" class=\"dataframe\">\n  <thead>\n    <tr style=\"text-align: right;\">\n      <th></th>\n      <th>Date</th>\n      <th>Description</th>\n      <th>Original Description</th>\n      <th>Amount</th>\n      <th>Transaction Type</th>\n      <th>Category</th>\n      <th>Account Name</th>\n      <th>Labels</th>\n      <th>Notes</th>\n    </tr>\n  </thead>\n  <tbody>\n    <tr>\n      <td>4</td>\n      <td>1/03/2020</td>\n      <td>Investment</td>\n      <td>Investment</td>\n      <td>1003.86</td>\n      <td>credit</td>\n      <td>Investments</td>\n      <td>Individual Investment Account</td>\n      <td>NaN</td>\n      <td>NaN</td>\n    </tr>\n    <tr>\n      <td>5</td>\n      <td>1/03/2020</td>\n      <td>Deposit</td>\n      <td>Deposit</td>\n      <td>1000.00</td>\n      <td>credit</td>\n      <td>Investments</td>\n      <td>Individual Investment Account</td>\n      <td>NaN</td>\n      <td>NaN</td>\n    </tr>\n    <tr>\n      <td>11</td>\n      <td>1/02/2020</td>\n      <td>Investment</td>\n      <td>Investment</td>\n      <td>2332.23</td>\n      <td>credit</td>\n      <td>Investments</td>\n      <td>Individual Investment Account</td>\n      <td>NaN</td>\n      <td>NaN</td>\n    </tr>\n    <tr>\n      <td>12</td>\n      <td>1/02/2020</td>\n      <td>Advisory Fee</td>\n      <td>Advisory Fee</td>\n      <td>0.60</td>\n      <td>debit</td>\n      <td>Trade Commissions</td>\n      <td>Individual Investment Account</td>\n      <td>NaN</td>\n      <td>NaN</td>\n    </tr>\n    <tr>\n      <td>13</td>\n      <td>1/02/2020</td>\n      <td>Deposit</td>\n      <td>Deposit</td>\n      <td>2300.00</td>\n      <td>credit</td>\n      <td>Investments</td>\n      <td>Individual Investment Account</td>\n      <td>NaN</td>\n      <td>NaN</td>\n    </tr>\n  </tbody>\n</table>\n</div>",
      "text/plain": "         Date   Description Original Description   Amount Transaction Type  \\\n4   1/03/2020    Investment           Investment  1003.86           credit   \n5   1/03/2020       Deposit              Deposit  1000.00           credit   \n11  1/02/2020    Investment           Investment  2332.23           credit   \n12  1/02/2020  Advisory Fee         Advisory Fee     0.60            debit   \n13  1/02/2020       Deposit              Deposit  2300.00           credit   \n\n             Category                   Account Name  Labels  Notes  \n4         Investments  Individual Investment Account     NaN    NaN  \n5         Investments  Individual Investment Account     NaN    NaN  \n11        Investments  Individual Investment Account     NaN    NaN  \n12  Trade Commissions  Individual Investment Account     NaN    NaN  \n13        Investments  Individual Investment Account     NaN    NaN  "
     },
     "metadata": {},
     "output_type": "display_data"
    },
    {
     "data": {
      "text/html": "<div>\n<style scoped>\n    .dataframe tbody tr th:only-of-type {\n        vertical-align: middle;\n    }\n\n    .dataframe tbody tr th {\n        vertical-align: top;\n    }\n\n    .dataframe thead th {\n        text-align: right;\n    }\n</style>\n<table border=\"1\" class=\"dataframe\">\n  <thead>\n    <tr style=\"text-align: right;\">\n      <th></th>\n      <th>Date</th>\n      <th>Description</th>\n      <th>Original Description</th>\n      <th>Amount</th>\n      <th>Transaction Type</th>\n      <th>Category</th>\n      <th>Account Name</th>\n      <th>Labels</th>\n      <th>Notes</th>\n    </tr>\n  </thead>\n  <tbody>\n    <tr>\n      <td>6</td>\n      <td>1/03/2020</td>\n      <td>PayrollDeduction</td>\n      <td>PayrollDeduction</td>\n      <td>233.33</td>\n      <td>credit</td>\n      <td>Investments</td>\n      <td>Guideline's Aggressive Portfolio</td>\n      <td>NaN</td>\n      <td>NaN</td>\n    </tr>\n    <tr>\n      <td>42</td>\n      <td>12/24/2019</td>\n      <td>DividendUnit</td>\n      <td>DividendUnit</td>\n      <td>1.02</td>\n      <td>credit</td>\n      <td>Investments</td>\n      <td>Guideline's Aggressive Portfolio</td>\n      <td>NaN</td>\n      <td>NaN</td>\n    </tr>\n    <tr>\n      <td>43</td>\n      <td>12/24/2019</td>\n      <td>DividendUnit</td>\n      <td>DividendUnit</td>\n      <td>1.72</td>\n      <td>credit</td>\n      <td>Investments</td>\n      <td>Guideline's Aggressive Portfolio</td>\n      <td>NaN</td>\n      <td>NaN</td>\n    </tr>\n    <tr>\n      <td>44</td>\n      <td>12/24/2019</td>\n      <td>DividendUnit</td>\n      <td>DividendUnit</td>\n      <td>2.54</td>\n      <td>credit</td>\n      <td>Investments</td>\n      <td>Guideline's Aggressive Portfolio</td>\n      <td>NaN</td>\n      <td>NaN</td>\n    </tr>\n    <tr>\n      <td>45</td>\n      <td>12/24/2019</td>\n      <td>DividendUnit</td>\n      <td>DividendUnit</td>\n      <td>3.74</td>\n      <td>credit</td>\n      <td>Investments</td>\n      <td>Guideline's Aggressive Portfolio</td>\n      <td>NaN</td>\n      <td>NaN</td>\n    </tr>\n  </tbody>\n</table>\n</div>",
      "text/plain": "          Date       Description Original Description  Amount  \\\n6    1/03/2020  PayrollDeduction     PayrollDeduction  233.33   \n42  12/24/2019      DividendUnit         DividendUnit    1.02   \n43  12/24/2019      DividendUnit         DividendUnit    1.72   \n44  12/24/2019      DividendUnit         DividendUnit    2.54   \n45  12/24/2019      DividendUnit         DividendUnit    3.74   \n\n   Transaction Type     Category                      Account Name  Labels  \\\n6            credit  Investments  Guideline's Aggressive Portfolio     NaN   \n42           credit  Investments  Guideline's Aggressive Portfolio     NaN   \n43           credit  Investments  Guideline's Aggressive Portfolio     NaN   \n44           credit  Investments  Guideline's Aggressive Portfolio     NaN   \n45           credit  Investments  Guideline's Aggressive Portfolio     NaN   \n\n    Notes  \n6     NaN  \n42    NaN  \n43    NaN  \n44    NaN  \n45    NaN  "
     },
     "metadata": {},
     "output_type": "display_data"
    },
    {
     "data": {
      "text/html": "<div>\n<style scoped>\n    .dataframe tbody tr th:only-of-type {\n        vertical-align: middle;\n    }\n\n    .dataframe tbody tr th {\n        vertical-align: top;\n    }\n\n    .dataframe thead th {\n        text-align: right;\n    }\n</style>\n<table border=\"1\" class=\"dataframe\">\n  <thead>\n    <tr style=\"text-align: right;\">\n      <th></th>\n      <th>Date</th>\n      <th>Description</th>\n      <th>Original Description</th>\n      <th>Amount</th>\n      <th>Transaction Type</th>\n      <th>Category</th>\n      <th>Account Name</th>\n      <th>Labels</th>\n      <th>Notes</th>\n    </tr>\n  </thead>\n  <tbody>\n    <tr>\n      <td>9</td>\n      <td>1/02/2020</td>\n      <td>CAPITAL ONE MOBILE payment AuthDate 02-Jan</td>\n      <td>CAPITAL ONE MOBILE PYMT AuthDate 02-Jan</td>\n      <td>29.66</td>\n      <td>credit</td>\n      <td>Credit Card Payment</td>\n      <td>Platinum Mastercard</td>\n      <td>NaN</td>\n      <td>NaN</td>\n    </tr>\n    <tr>\n      <td>94</td>\n      <td>12/16/2019</td>\n      <td>Hulu</td>\n      <td>HLU*HULU 289346997369</td>\n      <td>11.99</td>\n      <td>debit</td>\n      <td>Movies &amp; DVDs</td>\n      <td>Platinum Mastercard</td>\n      <td>NaN</td>\n      <td>NaN</td>\n    </tr>\n    <tr>\n      <td>102</td>\n      <td>12/13/2019</td>\n      <td>INTEREST CHARGE:PURCHASES</td>\n      <td>INTEREST CHARGE:PURCHASES</td>\n      <td>6.87</td>\n      <td>debit</td>\n      <td>Finance Charge</td>\n      <td>Platinum Mastercard</td>\n      <td>NaN</td>\n      <td>NaN</td>\n    </tr>\n    <tr>\n      <td>103</td>\n      <td>12/13/2019</td>\n      <td>SQUARE *HRDTM</td>\n      <td>SQUARE      *SQ *HRDTM</td>\n      <td>10.80</td>\n      <td>debit</td>\n      <td>Restaurants</td>\n      <td>Platinum Mastercard</td>\n      <td>NaN</td>\n      <td>NaN</td>\n    </tr>\n    <tr>\n      <td>117</td>\n      <td>12/11/2019</td>\n      <td>CAPITAL ONE MOBILE payment AuthDate 11-Dec</td>\n      <td>CAPITAL ONE MOBILE PYMT AuthDate 11-D ec</td>\n      <td>480.17</td>\n      <td>credit</td>\n      <td>Credit Card Payment</td>\n      <td>Platinum Mastercard</td>\n      <td>NaN</td>\n      <td>NaN</td>\n    </tr>\n  </tbody>\n</table>\n</div>",
      "text/plain": "           Date                                 Description  \\\n9     1/02/2020  CAPITAL ONE MOBILE payment AuthDate 02-Jan   \n94   12/16/2019                                        Hulu   \n102  12/13/2019                   INTEREST CHARGE:PURCHASES   \n103  12/13/2019                               SQUARE *HRDTM   \n117  12/11/2019  CAPITAL ONE MOBILE payment AuthDate 11-Dec   \n\n                         Original Description  Amount Transaction Type  \\\n9     CAPITAL ONE MOBILE PYMT AuthDate 02-Jan   29.66           credit   \n94                      HLU*HULU 289346997369   11.99            debit   \n102                 INTEREST CHARGE:PURCHASES    6.87            debit   \n103                    SQUARE      *SQ *HRDTM   10.80            debit   \n117  CAPITAL ONE MOBILE PYMT AuthDate 11-D ec  480.17           credit   \n\n                Category         Account Name  Labels  Notes  \n9    Credit Card Payment  Platinum Mastercard     NaN    NaN  \n94         Movies & DVDs  Platinum Mastercard     NaN    NaN  \n102       Finance Charge  Platinum Mastercard     NaN    NaN  \n103          Restaurants  Platinum Mastercard     NaN    NaN  \n117  Credit Card Payment  Platinum Mastercard     NaN    NaN  "
     },
     "metadata": {},
     "output_type": "display_data"
    },
    {
     "data": {
      "text/html": "<div>\n<style scoped>\n    .dataframe tbody tr th:only-of-type {\n        vertical-align: middle;\n    }\n\n    .dataframe tbody tr th {\n        vertical-align: top;\n    }\n\n    .dataframe thead th {\n        text-align: right;\n    }\n</style>\n<table border=\"1\" class=\"dataframe\">\n  <thead>\n    <tr style=\"text-align: right;\">\n      <th></th>\n      <th>Date</th>\n      <th>Description</th>\n      <th>Original Description</th>\n      <th>Amount</th>\n      <th>Transaction Type</th>\n      <th>Category</th>\n      <th>Account Name</th>\n      <th>Labels</th>\n      <th>Notes</th>\n    </tr>\n  </thead>\n  <tbody>\n    <tr>\n      <td>168</td>\n      <td>12/01/2019</td>\n      <td>Interest</td>\n      <td>Interest</td>\n      <td>0.02</td>\n      <td>credit</td>\n      <td>Interest Income</td>\n      <td>Individual Cash Account</td>\n      <td>NaN</td>\n      <td>NaN</td>\n    </tr>\n    <tr>\n      <td>251</td>\n      <td>11/04/2019</td>\n      <td>Transfer</td>\n      <td>Transfer</td>\n      <td>101.00</td>\n      <td>debit</td>\n      <td>Transfer</td>\n      <td>Individual Cash Account</td>\n      <td>NaN</td>\n      <td>NaN</td>\n    </tr>\n    <tr>\n      <td>266</td>\n      <td>11/01/2019</td>\n      <td>Interest</td>\n      <td>Interest</td>\n      <td>0.18</td>\n      <td>credit</td>\n      <td>Interest Income</td>\n      <td>Individual Cash Account</td>\n      <td>NaN</td>\n      <td>NaN</td>\n    </tr>\n    <tr>\n      <td>380</td>\n      <td>10/01/2019</td>\n      <td>Interest</td>\n      <td>Interest</td>\n      <td>0.18</td>\n      <td>credit</td>\n      <td>Interest Income</td>\n      <td>Individual Cash Account</td>\n      <td>NaN</td>\n      <td>NaN</td>\n    </tr>\n  </tbody>\n</table>\n</div>",
      "text/plain": "           Date Description Original Description  Amount Transaction Type  \\\n168  12/01/2019    Interest             Interest    0.02           credit   \n251  11/04/2019    Transfer             Transfer  101.00            debit   \n266  11/01/2019    Interest             Interest    0.18           credit   \n380  10/01/2019    Interest             Interest    0.18           credit   \n\n            Category             Account Name  Labels  Notes  \n168  Interest Income  Individual Cash Account     NaN    NaN  \n251         Transfer  Individual Cash Account     NaN    NaN  \n266  Interest Income  Individual Cash Account     NaN    NaN  \n380  Interest Income  Individual Cash Account     NaN    NaN  "
     },
     "metadata": {},
     "output_type": "display_data"
    },
    {
     "data": {
      "text/html": "<div>\n<style scoped>\n    .dataframe tbody tr th:only-of-type {\n        vertical-align: middle;\n    }\n\n    .dataframe tbody tr th {\n        vertical-align: top;\n    }\n\n    .dataframe thead th {\n        text-align: right;\n    }\n</style>\n<table border=\"1\" class=\"dataframe\">\n  <thead>\n    <tr style=\"text-align: right;\">\n      <th></th>\n      <th>Date</th>\n      <th>Description</th>\n      <th>Original Description</th>\n      <th>Amount</th>\n      <th>Transaction Type</th>\n      <th>Category</th>\n      <th>Account Name</th>\n      <th>Labels</th>\n      <th>Notes</th>\n    </tr>\n  </thead>\n  <tbody>\n    <tr>\n      <td>528</td>\n      <td>8/22/2019</td>\n      <td>Taco Bell</td>\n      <td>TACO BELL #031685</td>\n      <td>8.67</td>\n      <td>debit</td>\n      <td>Fast Food</td>\n      <td>CREDITCARD Account</td>\n      <td>NaN</td>\n      <td>NaN</td>\n    </tr>\n    <tr>\n      <td>529</td>\n      <td>8/22/2019</td>\n      <td>Yelp Cashback</td>\n      <td>YELP CASHBACK</td>\n      <td>5.41</td>\n      <td>credit</td>\n      <td>Credit Card Payment</td>\n      <td>CREDITCARD Account</td>\n      <td>NaN</td>\n      <td>NaN</td>\n    </tr>\n    <tr>\n      <td>535</td>\n      <td>8/21/2019</td>\n      <td>gotinder.com/help</td>\n      <td>gotinder.com/help</td>\n      <td>5.99</td>\n      <td>debit</td>\n      <td>Coffee Shops</td>\n      <td>CREDITCARD Account</td>\n      <td>NaN</td>\n      <td>NaN</td>\n    </tr>\n    <tr>\n      <td>552</td>\n      <td>8/19/2019</td>\n      <td>SQUARE *SOUVL</td>\n      <td>SQUARE *SQ *SOUVL</td>\n      <td>20.53</td>\n      <td>debit</td>\n      <td>Restaurants</td>\n      <td>CREDITCARD Account</td>\n      <td>NaN</td>\n      <td>NaN</td>\n    </tr>\n    <tr>\n      <td>553</td>\n      <td>8/19/2019</td>\n      <td>SQU*PHILZ COFFEE</td>\n      <td>SQU*SQ *PHILZ COFFEE</td>\n      <td>5.81</td>\n      <td>debit</td>\n      <td>Coffee Shops</td>\n      <td>CREDITCARD Account</td>\n      <td>NaN</td>\n      <td>NaN</td>\n    </tr>\n  </tbody>\n</table>\n</div>",
      "text/plain": "          Date        Description  Original Description  Amount  \\\n528  8/22/2019          Taco Bell     TACO BELL #031685    8.67   \n529  8/22/2019      Yelp Cashback         YELP CASHBACK    5.41   \n535  8/21/2019  gotinder.com/help     gotinder.com/help    5.99   \n552  8/19/2019      SQUARE *SOUVL     SQUARE *SQ *SOUVL   20.53   \n553  8/19/2019   SQU*PHILZ COFFEE  SQU*SQ *PHILZ COFFEE    5.81   \n\n    Transaction Type             Category        Account Name  Labels  Notes  \n528            debit            Fast Food  CREDITCARD Account     NaN    NaN  \n529           credit  Credit Card Payment  CREDITCARD Account     NaN    NaN  \n535            debit         Coffee Shops  CREDITCARD Account     NaN    NaN  \n552            debit          Restaurants  CREDITCARD Account     NaN    NaN  \n553            debit         Coffee Shops  CREDITCARD Account     NaN    NaN  "
     },
     "metadata": {},
     "output_type": "display_data"
    }
   ],
   "source": [
    "# What are the accounts being used?\n",
    "ACCOUNT_COL = \"Account Name\"\n",
    "accounts = last_4_months[ACCOUNT_COL].unique()\n",
    "print(accounts)\n",
    "for account in accounts:\n",
    "    display(last_4_months[last_4_months[ACCOUNT_COL] == account].head())\n",
    "\n",
    "# credit_card_transactions = last_4_months[last_4_months[\"Account Name\"] == \"Discover\"]"
   ]
  },
  {
   "cell_type": "markdown",
   "execution_count": null,
   "metadata": {},
   "outputs": [],
   "source": [
    "Based on what I see above, here's a description of each account:\n",
    "\n",
    "* \"Discover\" - These are all payments to or from my Discover It Credit Card\n",
    "* \"Abhijeet\" - This seems to be my Simple Bank Account. Money is used to transfer to Wealthfront or to pay credit card bills. Interest from Simple is also included in transactions for this account.\n",
    "* \"Guideline's Very Aggressive Portfolio\" - This is my 401k account with my new \"Very Aggressive\" strategy\n",
    "* \"Individual Investment Account\" - This is my Wealthfront Investment Account\n",
    "* \"Guideline's Aggressive Portfolio\" - This is my 401k account with my older \"Aggressive\" strategy\n",
    "* \"Platinum Mastercard\" - These are all payments to or from my Capital One Card\n",
    "* \"Individual Cash Account\" - This is my Wealthfront cash account. I don't use it anymore, but it's accruing a little bit of interest with whatever money is left in there.\n",
    "* \"CREDITCARD Account\" - These are payments to some credit card account? I think it's my old Capital One card"
   ]
  },
  {
   "cell_type": "code",
   "execution_count": 42,
   "metadata": {},
   "outputs": [
    {
     "data": {
      "text/html": "<div>\n<style scoped>\n    .dataframe tbody tr th:only-of-type {\n        vertical-align: middle;\n    }\n\n    .dataframe tbody tr th {\n        vertical-align: top;\n    }\n\n    .dataframe thead th {\n        text-align: right;\n    }\n</style>\n<table border=\"1\" class=\"dataframe\">\n  <thead>\n    <tr style=\"text-align: right;\">\n      <th></th>\n      <th>Amount</th>\n    </tr>\n    <tr>\n      <th>Category</th>\n      <th></th>\n    </tr>\n  </thead>\n  <tbody>\n    <tr>\n      <td>Shopping</td>\n      <td>3820.44</td>\n    </tr>\n    <tr>\n      <td>Credit Card Payment</td>\n      <td>3255.70</td>\n    </tr>\n    <tr>\n      <td>Air Travel</td>\n      <td>2722.81</td>\n    </tr>\n    <tr>\n      <td>Restaurants</td>\n      <td>1659.46</td>\n    </tr>\n    <tr>\n      <td>Rental Car &amp; Taxi</td>\n      <td>1026.66</td>\n    </tr>\n    <tr>\n      <td>Groceries</td>\n      <td>573.09</td>\n    </tr>\n    <tr>\n      <td>Alcohol &amp; Bars</td>\n      <td>455.65</td>\n    </tr>\n    <tr>\n      <td>Pharmacy</td>\n      <td>355.02</td>\n    </tr>\n    <tr>\n      <td>Tuition</td>\n      <td>294.00</td>\n    </tr>\n    <tr>\n      <td>Coffee Shops</td>\n      <td>240.41</td>\n    </tr>\n    <tr>\n      <td>Fast Food</td>\n      <td>223.04</td>\n    </tr>\n    <tr>\n      <td>Charity</td>\n      <td>209.00</td>\n    </tr>\n    <tr>\n      <td>Hotel</td>\n      <td>206.42</td>\n    </tr>\n    <tr>\n      <td>Hair</td>\n      <td>186.05</td>\n    </tr>\n    <tr>\n      <td>Gift</td>\n      <td>168.31</td>\n    </tr>\n    <tr>\n      <td>Advertising</td>\n      <td>155.42</td>\n    </tr>\n    <tr>\n      <td>Internet</td>\n      <td>90.30</td>\n    </tr>\n    <tr>\n      <td>Business Services</td>\n      <td>88.14</td>\n    </tr>\n    <tr>\n      <td>Home Improvement</td>\n      <td>86.43</td>\n    </tr>\n    <tr>\n      <td>Movies &amp; DVDs</td>\n      <td>85.13</td>\n    </tr>\n    <tr>\n      <td>Food &amp; Dining</td>\n      <td>83.40</td>\n    </tr>\n    <tr>\n      <td>Entertainment</td>\n      <td>79.53</td>\n    </tr>\n    <tr>\n      <td>Doctor</td>\n      <td>64.17</td>\n    </tr>\n    <tr>\n      <td>Furnishings</td>\n      <td>49.71</td>\n    </tr>\n    <tr>\n      <td>Electronics &amp; Software</td>\n      <td>43.18</td>\n    </tr>\n    <tr>\n      <td>Kids Activities</td>\n      <td>33.50</td>\n    </tr>\n    <tr>\n      <td>Public Transportation</td>\n      <td>30.00</td>\n    </tr>\n    <tr>\n      <td>Gas &amp; Fuel</td>\n      <td>23.46</td>\n    </tr>\n    <tr>\n      <td>Personal Care</td>\n      <td>21.70</td>\n    </tr>\n    <tr>\n      <td>Auto Payment</td>\n      <td>16.75</td>\n    </tr>\n    <tr>\n      <td>Amusement</td>\n      <td>16.18</td>\n    </tr>\n    <tr>\n      <td>Books</td>\n      <td>15.95</td>\n    </tr>\n    <tr>\n      <td>Finance Charge</td>\n      <td>6.87</td>\n    </tr>\n    <tr>\n      <td>Shipping</td>\n      <td>1.45</td>\n    </tr>\n  </tbody>\n</table>\n</div>",
      "text/plain": "                         Amount\nCategory                       \nShopping                3820.44\nCredit Card Payment     3255.70\nAir Travel              2722.81\nRestaurants             1659.46\nRental Car & Taxi       1026.66\nGroceries                573.09\nAlcohol & Bars           455.65\nPharmacy                 355.02\nTuition                  294.00\nCoffee Shops             240.41\nFast Food                223.04\nCharity                  209.00\nHotel                    206.42\nHair                     186.05\nGift                     168.31\nAdvertising              155.42\nInternet                  90.30\nBusiness Services         88.14\nHome Improvement          86.43\nMovies & DVDs             85.13\nFood & Dining             83.40\nEntertainment             79.53\nDoctor                    64.17\nFurnishings               49.71\nElectronics & Software    43.18\nKids Activities           33.50\nPublic Transportation     30.00\nGas & Fuel                23.46\nPersonal Care             21.70\nAuto Payment              16.75\nAmusement                 16.18\nBooks                     15.95\nFinance Charge             6.87\nShipping                   1.45"
     },
     "execution_count": 42,
     "metadata": {},
     "output_type": "execute_result"
    }
   ],
   "source": [
    "# Let's hone in on the credit card spending and remove any credits for the account. I want to get an idea of what I'm spending on\n",
    "\n",
    "CREDIT_CARDS = {\"Discover\", \"Platinum Mastercard\", \"CREDITCARD Account\"}\n",
    "TRANSACTION_TYPE = \"Transaction Type\"\n",
    "\n",
    "def filter_credit_cards(df):\n",
    "    return df.loc[df[ACCOUNT_COL].isin(CREDIT_CARDS)]\n",
    "\n",
    "def filter_expenditures(df):\n",
    "    return df.loc[df[TRANSACTION_TYPE] == \"debit\"]\n",
    "\n",
    "credit_card_expenditures = filter_expenditures(filter_credit_cards(last_4_months))\n",
    "amounts_by_category(credit_card_expenditures)"
   ]
  },
  {
   "cell_type": "markdown",
   "execution_count": null,
   "metadata": {},
   "outputs": [],
   "source": [
    "So *Shopping*, *Air Travel*, and *Restaurants* are some of the highest spending categories on my Credit Card. That makes sense judging by what I remember spending on. What is *Credit Card Payment* though? And why is it a debit?"
   ]
  },
  {
   "cell_type": "code",
   "execution_count": 43,
   "metadata": {},
   "outputs": [
    {
     "data": {
      "text/html": "<div>\n<style scoped>\n    .dataframe tbody tr th:only-of-type {\n        vertical-align: middle;\n    }\n\n    .dataframe tbody tr th {\n        vertical-align: top;\n    }\n\n    .dataframe thead th {\n        text-align: right;\n    }\n</style>\n<table border=\"1\" class=\"dataframe\">\n  <thead>\n    <tr style=\"text-align: right;\">\n      <th></th>\n      <th>Date</th>\n      <th>Description</th>\n      <th>Original Description</th>\n      <th>Amount</th>\n      <th>Transaction Type</th>\n      <th>Category</th>\n      <th>Account Name</th>\n      <th>Labels</th>\n      <th>Notes</th>\n    </tr>\n  </thead>\n  <tbody>\n    <tr>\n      <td>578</td>\n      <td>8/14/2019</td>\n      <td>RETURNED INTERNET payment</td>\n      <td>RETURNED INTERNET PMT</td>\n      <td>3255.7</td>\n      <td>debit</td>\n      <td>Credit Card Payment</td>\n      <td>Discover</td>\n      <td>NaN</td>\n      <td>NaN</td>\n    </tr>\n  </tbody>\n</table>\n</div>",
      "text/plain": "          Date                Description   Original Description  Amount  \\\n578  8/14/2019  RETURNED INTERNET payment  RETURNED INTERNET PMT  3255.7   \n\n    Transaction Type             Category Account Name  Labels  Notes  \n578            debit  Credit Card Payment     Discover     NaN    NaN  "
     },
     "execution_count": 43,
     "metadata": {},
     "output_type": "execute_result"
    }
   ],
   "source": [
    "credit_card_expenditures[credit_card_expenditures[CATEGORY] == \"Credit Card Payment\"]"
   ]
  },
  {
   "cell_type": "markdown",
   "execution_count": null,
   "metadata": {},
   "outputs": [],
   "source": [
    "It's just one *RETURNED INTERNET PMT*. This was back in August when I had made some a payment to my Discover Card, but I remember for some reason I undid it, or it didn't go through. I should disregard this, because this is a net zero charge on my card when accounting for the attempted credit card payment."
   ]
  },
  {
   "cell_type": "code",
   "execution_count": 48,
   "metadata": {},
   "outputs": [
    {
     "data": {
      "text/html": "<div>\n<style scoped>\n    .dataframe tbody tr th:only-of-type {\n        vertical-align: middle;\n    }\n\n    .dataframe tbody tr th {\n        vertical-align: top;\n    }\n\n    .dataframe thead th {\n        text-align: right;\n    }\n</style>\n<table border=\"1\" class=\"dataframe\">\n  <thead>\n    <tr style=\"text-align: right;\">\n      <th></th>\n      <th>Amount</th>\n    </tr>\n    <tr>\n      <th>Category</th>\n      <th></th>\n    </tr>\n  </thead>\n  <tbody>\n    <tr>\n      <td>Shopping</td>\n      <td>3820.44</td>\n    </tr>\n    <tr>\n      <td>Air Travel</td>\n      <td>2722.81</td>\n    </tr>\n    <tr>\n      <td>Restaurants</td>\n      <td>1659.46</td>\n    </tr>\n    <tr>\n      <td>Rental Car &amp; Taxi</td>\n      <td>1026.66</td>\n    </tr>\n    <tr>\n      <td>Groceries</td>\n      <td>573.09</td>\n    </tr>\n    <tr>\n      <td>Alcohol &amp; Bars</td>\n      <td>455.65</td>\n    </tr>\n    <tr>\n      <td>Pharmacy</td>\n      <td>355.02</td>\n    </tr>\n    <tr>\n      <td>Tuition</td>\n      <td>294.00</td>\n    </tr>\n    <tr>\n      <td>Coffee Shops</td>\n      <td>240.41</td>\n    </tr>\n    <tr>\n      <td>Fast Food</td>\n      <td>223.04</td>\n    </tr>\n    <tr>\n      <td>Charity</td>\n      <td>209.00</td>\n    </tr>\n    <tr>\n      <td>Hotel</td>\n      <td>206.42</td>\n    </tr>\n    <tr>\n      <td>Hair</td>\n      <td>186.05</td>\n    </tr>\n    <tr>\n      <td>Gift</td>\n      <td>168.31</td>\n    </tr>\n    <tr>\n      <td>Advertising</td>\n      <td>155.42</td>\n    </tr>\n    <tr>\n      <td>Internet</td>\n      <td>90.30</td>\n    </tr>\n    <tr>\n      <td>Business Services</td>\n      <td>88.14</td>\n    </tr>\n    <tr>\n      <td>Home Improvement</td>\n      <td>86.43</td>\n    </tr>\n    <tr>\n      <td>Movies &amp; DVDs</td>\n      <td>85.13</td>\n    </tr>\n    <tr>\n      <td>Food &amp; Dining</td>\n      <td>83.40</td>\n    </tr>\n    <tr>\n      <td>Entertainment</td>\n      <td>79.53</td>\n    </tr>\n    <tr>\n      <td>Doctor</td>\n      <td>64.17</td>\n    </tr>\n    <tr>\n      <td>Furnishings</td>\n      <td>49.71</td>\n    </tr>\n    <tr>\n      <td>Electronics &amp; Software</td>\n      <td>43.18</td>\n    </tr>\n    <tr>\n      <td>Kids Activities</td>\n      <td>33.50</td>\n    </tr>\n    <tr>\n      <td>Public Transportation</td>\n      <td>30.00</td>\n    </tr>\n    <tr>\n      <td>Gas &amp; Fuel</td>\n      <td>23.46</td>\n    </tr>\n    <tr>\n      <td>Personal Care</td>\n      <td>21.70</td>\n    </tr>\n    <tr>\n      <td>Auto Payment</td>\n      <td>16.75</td>\n    </tr>\n    <tr>\n      <td>Amusement</td>\n      <td>16.18</td>\n    </tr>\n    <tr>\n      <td>Books</td>\n      <td>15.95</td>\n    </tr>\n    <tr>\n      <td>Finance Charge</td>\n      <td>6.87</td>\n    </tr>\n    <tr>\n      <td>Shipping</td>\n      <td>1.45</td>\n    </tr>\n  </tbody>\n</table>\n</div>",
      "text/plain": "                         Amount\nCategory                       \nShopping                3820.44\nAir Travel              2722.81\nRestaurants             1659.46\nRental Car & Taxi       1026.66\nGroceries                573.09\nAlcohol & Bars           455.65\nPharmacy                 355.02\nTuition                  294.00\nCoffee Shops             240.41\nFast Food                223.04\nCharity                  209.00\nHotel                    206.42\nHair                     186.05\nGift                     168.31\nAdvertising              155.42\nInternet                  90.30\nBusiness Services         88.14\nHome Improvement          86.43\nMovies & DVDs             85.13\nFood & Dining             83.40\nEntertainment             79.53\nDoctor                    64.17\nFurnishings               49.71\nElectronics & Software    43.18\nKids Activities           33.50\nPublic Transportation     30.00\nGas & Fuel                23.46\nPersonal Care             21.70\nAuto Payment              16.75\nAmusement                 16.18\nBooks                     15.95\nFinance Charge             6.87\nShipping                   1.45"
     },
     "execution_count": 48,
     "metadata": {},
     "output_type": "execute_result"
    }
   ],
   "source": [
    "credit_card_expenditures = credit_card_expenditures[credit_card_expenditures[CATEGORY] != \"Credit Card Payment\"]\n",
    "amounts_by_category(credit_card_expenditures)"
   ]
  },
  {
   "cell_type": "code",
   "execution_count": null,
   "metadata": {},
   "outputs": [],
   "source": []
  }
 ]
}