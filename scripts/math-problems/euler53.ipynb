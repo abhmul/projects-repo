{
 "cells": [
  {
   "cell_type": "code",
   "execution_count": 15,
   "metadata": {},
   "outputs": [
    {
     "output_type": "stream",
     "name": "stdout",
     "text": "1.0\n0.8812908992306927\n0.8812908992306927\n0.0014730335283281598\n"
    }
   ],
   "source": [
    "import math\n",
    "\n",
    "def entropy(p):\n",
    "    return -(1 - p) * np.log2(1 - p) - p * np.log2(p)\n",
    "\n",
    "print(entropy(0.5))\n",
    "print(entropy(0.7))\n",
    "print(entropy(0.3))\n",
    "print(entropy(0.0001))\n"
   ]
  },
  {
   "cell_type": "code",
   "execution_count": 10,
   "metadata": {},
   "outputs": [
    {
     "output_type": "execute_result",
     "data": {
      "text/plain": "19.931568569324174"
     },
     "metadata": {},
     "execution_count": 10
    }
   ],
   "source": [
    "N = 1\n",
    "cap = 1000000\n",
    "math.log2(1000000) / N"
   ]
  },
  {
   "cell_type": "code",
   "execution_count": 11,
   "metadata": {},
   "outputs": [
    {
     "output_type": "execute_result",
     "data": {
      "text/plain": "19.931568569324174"
     },
     "metadata": {},
     "execution_count": 11
    }
   ],
   "source": [
    "# Rough lower bound on N as 0 < lg(cap) / N < 1\n",
    "math.log2(cap)"
   ]
  },
  {
   "cell_type": "code",
   "execution_count": 16,
   "metadata": {},
   "outputs": [
    {
     "output_type": "execute_result",
     "data": {
      "text/plain": "array([0.01140776, 0.08854181, 0.14905048, 0.20211149, 0.25018993,\n       0.29449082, 0.33573333, 0.37439617, 0.41082102, 0.44526394,\n       0.47792387, 0.50895973, 0.5385013 , 0.56665645, 0.59351618,\n       0.61915821, 0.64364964, 0.66704887, 0.68940717, 0.71076984,\n       0.73117713, 0.75066498, 0.76926565, 0.78700817, 0.80391878,\n       0.82002127, 0.83533723, 0.84988632, 0.86368646, 0.87675402,\n       0.88910393, 0.90074987, 0.91170432, 0.9219787 , 0.93158342,\n       0.94052799, 0.94882105, 0.95647046, 0.96348332, 0.96986603,\n       0.97562431, 0.98076326, 0.98528737, 0.98920054, 0.99250612,\n       0.99520692, 0.9973052 , 0.99880273, 0.99970074, 1.        ])"
     },
     "metadata": {},
     "execution_count": 16
    }
   ],
   "source": [
    "import numpy as np\n",
    "\n",
    "entropy(np.linspace(0.001, 0.5, num=50))"
   ]
  },
  {
   "cell_type": "code",
   "execution_count": 17,
   "metadata": {},
   "outputs": [
    {
     "output_type": "stream",
     "name": "stdout",
     "text": "[(19, 0), (20, 9), (21, 7), (22, 7), (23, 6), (24, 6), (25, 6), (26, 5), (27, 5), (28, 5), (29, 5), (30, 5), (31, 5), (32, 5), (33, 5), (34, 4), (35, 5), (36, 4), (37, 4), (38, 4), (39, 4), (40, 4), (41, 4), (42, 4), (43, 4), (44, 4), (45, 4), (46, 4), (47, 4), (48, 4), (49, 4), (50, 4), (51, 4), (52, 4), (53, 4), (54, 3), (55, 3), (56, 4), (57, 4), (58, 4), (59, 4), (60, 3), (61, 3), (62, 3), (63, 3), (64, 3), (65, 4), (66, 4), (67, 4), (68, 3), (69, 3), (70, 3), (71, 3), (72, 3), (73, 3), (74, 3), (75, 3), (76, 3), (77, 3), (78, 4), (79, 4), (80, 3), (81, 3), (82, 3), (83, 3), (84, 3), (85, 3), (86, 3), (87, 3), (88, 3), (89, 3), (90, 3), (91, 3), (92, 3), (93, 3), (94, 3), (95, 3), (96, 4), (97, 4), (98, 4), (99, 3), (100, 3)]\n"
    }
   ],
   "source": [
    "p_space = np.linspace(0.001, 0.5, num=50)\n",
    "logcap = math.log2(cap)\n",
    "suggestions = []\n",
    "for n in range(math.floor(logcap), 100 + 1):\n",
    "    # Get first p where this is true\n",
    "    p = p_space[np.argmax(entropy(p_space) > logcap / n)]\n",
    "    suggestions.append((n, math.floor(p * n)))\n",
    "\n",
    "print(suggestions)\n"
   ]
  },
  {
   "cell_type": "code",
   "execution_count": 19,
   "metadata": {},
   "outputs": [
    {
     "output_type": "execute_result",
     "data": {
      "text/plain": "4.0"
     },
     "metadata": {},
     "execution_count": 19
    }
   ],
   "source": [
    "def choose(n, r):\n",
    "    return math.factorial(n) / math.factorial(r) / math.factorial(n - r)\n"
   ]
  },
  {
   "cell_type": "code",
   "execution_count": 21,
   "metadata": {},
   "outputs": [
    {
     "output_type": "execute_result",
     "data": {
      "text/plain": "4075"
     },
     "metadata": {},
     "execution_count": 21
    }
   ],
   "source": [
    "count = 0\n",
    "for n in range(1, 100 + 1):\n",
    "    for r in range(1, n):\n",
    "        if choose(n, r) > cap:\n",
    "            count += 1\n",
    "\n",
    "count"
   ]
  },
  {
   "cell_type": "code",
   "execution_count": 27,
   "metadata": {},
   "outputs": [
    {
     "output_type": "execute_result",
     "data": {
      "text/plain": "4075"
     },
     "metadata": {},
     "execution_count": 27
    }
   ],
   "source": [
    "def pascals(rows, cutoff=None):\n",
    "    triangle = np.zeros((rows+1, rows+1))\n",
    "    triangle[:, 0] = 1.\n",
    "    inds = np.arange(rows + 1)\n",
    "    triangle[inds, inds] = 1.\n",
    "    for n in range(1, triangle.shape[0]):\n",
    "        for r in range(1, n):\n",
    "            if cutoff is None or cutoff - triangle[n-1, r-1] > triangle[n-1, r]:\n",
    "                triangle[n, r] = triangle[n-1, r-1] + triangle[n-1, r]\n",
    "            else:\n",
    "                triangle[n, r] = cutoff\n",
    "\n",
    "    return triangle\n",
    "\n",
    "np.count_nonzero(pascals(100, cutoff=cap) == cap)"
   ]
  }
 ],
 "metadata": {
  "language_info": {
   "codemirror_mode": {
    "name": "ipython",
    "version": 3
   },
   "file_extension": ".py",
   "mimetype": "text/x-python",
   "name": "python",
   "nbconvert_exporter": "python",
   "pygments_lexer": "ipython3",
   "version": "3.6.8-final"
  },
  "orig_nbformat": 2,
  "kernelspec": {
   "name": "python36864bitaf544881e8e54a5da73cc14ab7a44dd2",
   "display_name": "Python 3.6.8 64-bit"
  }
 },
 "nbformat": 4,
 "nbformat_minor": 2
}