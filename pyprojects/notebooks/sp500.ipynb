{
 "cells": [
  {
   "cell_type": "code",
   "execution_count": 4,
   "id": "bearing-involvement",
   "metadata": {},
   "outputs": [
    {
     "data": {
      "text/html": [
       "<div>\n",
       "<style scoped>\n",
       "    .dataframe tbody tr th:only-of-type {\n",
       "        vertical-align: middle;\n",
       "    }\n",
       "\n",
       "    .dataframe tbody tr th {\n",
       "        vertical-align: top;\n",
       "    }\n",
       "\n",
       "    .dataframe thead th {\n",
       "        text-align: right;\n",
       "    }\n",
       "</style>\n",
       "<table border=\"1\" class=\"dataframe\">\n",
       "  <thead>\n",
       "    <tr style=\"text-align: right;\">\n",
       "      <th></th>\n",
       "      <th>Date</th>\n",
       "      <th>Returns</th>\n",
       "    </tr>\n",
       "  </thead>\n",
       "  <tbody>\n",
       "    <tr>\n",
       "      <th>60</th>\n",
       "      <td>2017-12-29</td>\n",
       "      <td>19.42</td>\n",
       "    </tr>\n",
       "    <tr>\n",
       "      <th>61</th>\n",
       "      <td>2018-12-31</td>\n",
       "      <td>-6.24</td>\n",
       "    </tr>\n",
       "    <tr>\n",
       "      <th>62</th>\n",
       "      <td>2019-12-31</td>\n",
       "      <td>29.24</td>\n",
       "    </tr>\n",
       "    <tr>\n",
       "      <th>63</th>\n",
       "      <td>2020-12-31</td>\n",
       "      <td>16.26</td>\n",
       "    </tr>\n",
       "    <tr>\n",
       "      <th>64</th>\n",
       "      <td>2021-04-14</td>\n",
       "      <td>9.81</td>\n",
       "    </tr>\n",
       "  </tbody>\n",
       "</table>\n",
       "</div>"
      ],
      "text/plain": [
       "         Date  Returns\n",
       "60 2017-12-29    19.42\n",
       "61 2018-12-31    -6.24\n",
       "62 2019-12-31    29.24\n",
       "63 2020-12-31    16.26\n",
       "64 2021-04-14     9.81"
      ]
     },
     "execution_count": 4,
     "metadata": {},
     "output_type": "execute_result"
    }
   ],
   "source": [
    "import pandas as pd\n",
    "\n",
    "sp500 = pd.read_csv('~/gdrive/sync-data/sp500-yearly-performance.csv')\n",
    "sp500['Date'] = pd.to_datetime(sp500['Date'])\n",
    "sp500.tail()"
   ]
  },
  {
   "cell_type": "code",
   "execution_count": 9,
   "id": "guided-verification",
   "metadata": {},
   "outputs": [
    {
     "data": {
      "text/plain": [
       "False"
      ]
     },
     "execution_count": 9,
     "metadata": {},
     "output_type": "execute_result"
    }
   ],
   "source": [
    "from datetime import timedelta\n",
    "year = timedelta(days=365)\n",
    "(sp500.Date[4] - sp500.Date[3]) / year\n",
    "\n",
    "1 < 2 < 2"
   ]
  },
  {
   "cell_type": "code",
   "execution_count": 30,
   "id": "regional-encyclopedia",
   "metadata": {},
   "outputs": [
    {
     "name": "stdout",
     "output_type": "stream",
     "text": [
      "[0, 2, 5]\n",
      "[1, 4]\n"
     ]
    }
   ],
   "source": [
    "def relmin(vals):\n",
    "    vals = list(vals)\n",
    "    padded_vals = [float('inf')] + vals + [float('inf')]\n",
    "    return [i for i in range(len(vals)) if padded_vals[i] >= padded_vals[i+1] <= padded_vals[i+2]]\n",
    "def relmax(vals):\n",
    "    vals = list(vals)\n",
    "    padded_vals = [-float('inf')] + vals + [-float('inf')]\n",
    "    return [i for i in range(len(vals)) if padded_vals[i] <= padded_vals[i+1] >= padded_vals[i+2]]\n",
    "\n",
    "print(relmin([1, 3, 2, 5, 6, 4])) # Should be [0,2,5]\n",
    "print(relmax([1, 3, 2, 5, 6, 4])) # Should be [1,4]"
   ]
  },
  {
   "cell_type": "code",
   "execution_count": 80,
   "id": "enhanced-patrick",
   "metadata": {},
   "outputs": [
    {
     "name": "stdout",
     "output_type": "stream",
     "text": [
      "[0, 3, 5, 9, 12, 17, 20, 24, 27, 30, 33, 35, 37, 39, 45, 48, 51, 54, 58, 61, 64]\n",
      "[3, 2, 4, 3, 5, 3, 4, 3, 3, 3, 2, 2, 2, 6, 3, 3, 3, 4, 3, 2]\n",
      "4\n"
     ]
    }
   ],
   "source": [
    "from pprint import pprint\n",
    "\n",
    "inds_min = relmin(sp500.Returns)\n",
    "gaps_min = [round((sp500.Date[inds_min[j]] - sp500.Date[inds_min[j-1]]) / year) for j in range(1, len(inds_min))]\n",
    "print(inds_min)\n",
    "pprint(gaps_min)\n",
    "print(max(gaps_min) - min(gaps_min))\n"
   ]
  },
  {
   "cell_type": "code",
   "execution_count": 81,
   "id": "mediterranean-clark",
   "metadata": {},
   "outputs": [
    {
     "name": "stdout",
     "output_type": "stream",
     "text": [
      "[1, 4, 6, 10, 15, 18, 23, 26, 28, 32, 34, 36, 38, 40, 46, 49, 52, 56, 60, 62]\n",
      "[3, 2, 4, 5, 3, 5, 3, 2, 4, 2, 2, 2, 2, 6, 3, 3, 4, 4, 2]\n",
      "4\n"
     ]
    }
   ],
   "source": [
    "inds_max = relmax(sp500.Returns)\n",
    "gaps_max = [round((sp500.Date[inds_max[j]] - sp500.Date[inds_max[j-1]]) / year) for j in range(1, len(inds_max))]\n",
    "print(inds_max)\n",
    "pprint(gaps_max)\n",
    "print(max(gaps_max) - min(gaps_max))"
   ]
  },
  {
   "cell_type": "code",
   "execution_count": 82,
   "id": "integral-british",
   "metadata": {},
   "outputs": [
    {
     "data": {
      "text/plain": [
       "True"
      ]
     },
     "execution_count": 82,
     "metadata": {},
     "output_type": "execute_result"
    }
   ],
   "source": [
    "all(inds_min[i] <= inds_max[i] <= inds_min[i+1] for i in range(len(inds_max)))"
   ]
  },
  {
   "cell_type": "code",
   "execution_count": 61,
   "id": "pending-korea",
   "metadata": {},
   "outputs": [
    {
     "name": "stdout",
     "output_type": "stream",
     "text": [
      "[1.5 2.5 3.5 4.5 5.5]\n",
      "[3, 2, 4, 3, 5, 3, 4, 3, 3, 3, 2, 2, 2, 6, 3, 3, 3, 4, 3, 2]\n"
     ]
    },
    {
     "data": {
      "text/plain": [
       "(array([0.26315789, 0.52631579, 0.15789474, 0.05263158]),\n",
       " array([1.5, 2.5, 3.5, 4.5, 5.5]),\n",
       " <BarContainer object of 4 artists>)"
      ]
     },
     "execution_count": 61,
     "metadata": {},
     "output_type": "execute_result"
    },
    {
     "data": {
      "image/png": "[encoded data removed]",
      "text/plain": [
       "<Figure size 432x288 with 1 Axes>"
      ]
     },
     "metadata": {
      "needs_background": "light"
     },
     "output_type": "display_data"
    }
   ],
   "source": [
    "import matplotlib.pyplot as plt\n",
    "def plot(gaps):\n",
    "    bins=np.unique(gaps) - 0.5\n",
    "    print(bins)\n",
    "    print(gaps)\n",
    "    return plt.hist(gaps, bins=bins, density=True)\n",
    "plot(gaps_min)"
   ]
  },
  {
   "cell_type": "code",
   "execution_count": 62,
   "id": "according-verse",
   "metadata": {},
   "outputs": [
    {
     "name": "stdout",
     "output_type": "stream",
     "text": [
      "[1.5 2.5 3.5 4.5 5.5]\n",
      "[3, 2, 4, 5, 3, 5, 3, 2, 4, 2, 2, 2, 2, 6, 3, 3, 4, 4, 2]\n"
     ]
    },
    {
     "data": {
      "text/plain": [
       "(array([0.38888889, 0.27777778, 0.22222222, 0.11111111]),\n",
       " array([1.5, 2.5, 3.5, 4.5, 5.5]),\n",
       " <BarContainer object of 4 artists>)"
      ]
     },
     "execution_count": 62,
     "metadata": {},
     "output_type": "execute_result"
    },
    {
     "data": {
      "image/png": "[encoded data removed]",
      "text/plain": [
       "<Figure size 432x288 with 1 Axes>"
      ]
     },
     "metadata": {
      "needs_background": "light"
     },
     "output_type": "display_data"
    }
   ],
   "source": [
    "plot(gaps_max)"
   ]
  },
  {
   "cell_type": "code",
   "execution_count": 77,
   "id": "transparent-jason",
   "metadata": {},
   "outputs": [
    {
     "name": "stdout",
     "output_type": "stream",
     "text": [
      "[1.0, 1.6, 1]\n",
      "[1.5 2.5 3.5 4.5 5.5]\n",
      "[3, 2, 4, 3, 5, 3, 4, 3, 3, 3, 2, 2, 2, 6, 3, 3, 3, 4, 3, 2]\n"
     ]
    },
    {
     "data": {
      "image/png": "[encoded data removed]",
      "text/plain": [
       "<Figure size 432x288 with 1 Axes>"
      ]
     },
     "metadata": {
      "needs_background": "light"
     },
     "output_type": "display_data"
    }
   ],
   "source": [
    "import scipy.stats as stats\n",
    "import numpy as np\n",
    "\n",
    "def plot_comparison(gaps, loc=None, scale=None):\n",
    "    initial_guess = list(stats.lognorm._fitstart(gaps))\n",
    "    print(initial_guess)\n",
    "    if loc is None:\n",
    "        loc = initial_guess[1]\n",
    "    if scale is None:\n",
    "        scale = initial_guess[2]\n",
    "    \n",
    "    param=stats.lognorm.fit(gaps, loc = loc, scale=scale) # fit the sample data\n",
    "    \n",
    "    x=np.linspace(0,max(gaps), max(gaps) * 100)\n",
    "    pdf_fitted = stats.lognorm.pdf(x, param[0], loc=param[1], scale=param[2])\n",
    "    \n",
    "    plt.plot(x, pdf_fitted)\n",
    "    plot(gaps)\n",
    "\n",
    "plot_comparison(gaps_min, loc=1)"
   ]
  },
  {
   "cell_type": "code",
   "execution_count": 79,
   "id": "green-output",
   "metadata": {},
   "outputs": [
    {
     "name": "stdout",
     "output_type": "stream",
     "text": [
      "[1.0, 1.6, 1]\n",
      "[1.5 2.5 3.5 4.5 5.5]\n",
      "[3, 2, 4, 5, 3, 5, 3, 2, 4, 2, 2, 2, 2, 6, 3, 3, 4, 4, 2]\n"
     ]
    },
    {
     "data": {
      "image/png": "[encoded data removed]",
      "text/plain": [
       "<Figure size 432x288 with 1 Axes>"
      ]
     },
     "metadata": {
      "needs_background": "light"
     },
     "output_type": "display_data"
    }
   ],
   "source": [
    "plot_comparison(gaps_max, loc=1, scale=1.1)"
   ]
  }
 ],
 "metadata": {
  "kernelspec": {
   "display_name": "Python 3",
   "language": "python",
   "name": "python3"
  },
  "language_info": {
   "codemirror_mode": {
    "name": "ipython",
    "version": 3
   },
   "file_extension": ".py",
   "mimetype": "text/x-python",
   "name": "python",
   "nbconvert_exporter": "python",
   "pygments_lexer": "ipython3",
   "version": "3.7.9"
  }
 },
 "nbformat": 4,
 "nbformat_minor": 5
}
