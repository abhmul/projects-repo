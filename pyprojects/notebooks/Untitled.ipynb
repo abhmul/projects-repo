{
 "cells": [
  {
   "cell_type": "code",
   "execution_count": 16,
   "metadata": {},
   "outputs": [],
   "source": [
    "import tensorflow as tf\n",
    "\n",
    "def custom_grad(dy):\n",
    "    return dy\n",
    "\n",
    "@tf.custom_gradient\n",
    "def linear(x):\n",
    "    def grad(dy):\n",
    "        return custom_grad(dy)\n",
    "\n",
    "    return x, grad\n",
    "\n",
    "\n",
    "class Linear(tf.keras.layers.Dense):\n",
    "    def call(self, x):\n",
    "        x = super().call(x)\n",
    "        return linear(x)\n",
    "    \n"
   ]
  },
  {
   "cell_type": "code",
   "execution_count": 19,
   "metadata": {},
   "outputs": [
    {
     "name": "stdout",
     "output_type": "stream",
     "text": [
      "[<tf.Variable 'linear_7/kernel:0' shape=(1, 1) dtype=float32, numpy=array([[1.351981]], dtype=float32)>, <tf.Variable 'linear_7/bias:0' shape=(1,) dtype=float32, numpy=array([0.], dtype=float32)>]\n"
     ]
    }
   ],
   "source": [
    "x = tf.constant([[100.]])\n",
    "a = Linear(1)\n",
    "a(x)\n",
    "print(a.variables)"
   ]
  },
  {
   "cell_type": "code",
   "execution_count": 22,
   "metadata": {},
   "outputs": [],
   "source": [
    "def custom_grad(dy):\n",
    "    print(dy)\n",
    "    return 2 * dy"
   ]
  },
  {
   "cell_type": "code",
   "execution_count": 23,
   "metadata": {},
   "outputs": [
    {
     "name": "stdout",
     "output_type": "stream",
     "text": [
      "tf.Tensor([[135.1981]], shape=(1, 1), dtype=float32)\n",
      "tf.Tensor([[1.]], shape=(1, 1), dtype=float32)\n"
     ]
    },
    {
     "data": {
      "text/plain": [
       "<tf.Tensor: id=214, shape=(1, 1), dtype=float32, numpy=array([[2.703962]], dtype=float32)>"
      ]
     },
     "execution_count": 23,
     "metadata": {},
     "output_type": "execute_result"
    }
   ],
   "source": [
    "with tf.GradientTape(persistent=True) as tape:\n",
    "    tape.watch(x)\n",
    "    y = a(x)\n",
    "print(y)\n",
    "tape.gradient(y,x)"
   ]
  },
  {
   "cell_type": "code",
   "execution_count": null,
   "metadata": {},
   "outputs": [],
   "source": []
  }
 ],
 "metadata": {
  "kernelspec": {
   "display_name": "Python 3",
   "language": "python",
   "name": "python3"
  },
  "language_info": {
   "codemirror_mode": {
    "name": "ipython",
    "version": 3
   },
   "file_extension": ".py",
   "mimetype": "text/x-python",
   "name": "python",
   "nbconvert_exporter": "python",
   "pygments_lexer": "ipython3",
   "version": "3.6.8"
  }
 },
 "nbformat": 4,
 "nbformat_minor": 2
}
